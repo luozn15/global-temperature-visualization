{
 "cells": [
  {
   "cell_type": "code",
   "execution_count": 1,
   "metadata": {},
   "outputs": [],
   "source": [
    "import netCDF4 as nc\n",
    "import numpy as np\n",
    "import pandas as pd \n",
    "import os\n",
    "import plotly.express as px\n",
    "import json\n",
    "import pycountry\n",
    "import dash\n",
    "import dash_core_components as dcc\n",
    "import dash_html_components as html\n",
    "import data_proc\n",
    "import draw\n",
    "\n",
    "csv_path = './data/GlobalLandTemperaturesByCountry.csv'\n",
    "json_path = './data/countries.geo.json'\n",
    "nc_path = './data/Raw_TAVG_EqualArea.nc'\n",
    "#nc_path = './data/Raw_TAVG_LatLong1.nc'"
   ]
  },
  {
   "cell_type": "code",
   "execution_count": 2,
   "metadata": {},
   "outputs": [],
   "source": [
    "tbc = data_proc.CSVReader(csv_path).tbc"
   ]
  },
  {
   "cell_type": "code",
   "execution_count": 12,
   "metadata": {},
   "outputs": [
    {
     "output_type": "execute_result",
     "data": {
      "text/plain": "      AverageTemperature country  year alpha_3\n8766            5.013600   China  1820     TWN\n8767            6.284167   China  1821     TWN\n8768            6.341417   China  1822     TWN\n8769            7.024364   China  1823     TWN\n8770                 NaN   China  1824     TWN\n...                  ...     ...   ...     ...\n8955            7.809500   China  2009     TWN\n8956            7.548417   China  2010     TWN\n8957            7.357083   China  2011     TWN\n8958            7.077083   China  2012     TWN\n8959            9.295000   China  2013     TWN\n\n[194 rows x 4 columns]",
      "text/html": "<div>\n<style scoped>\n    .dataframe tbody tr th:only-of-type {\n        vertical-align: middle;\n    }\n\n    .dataframe tbody tr th {\n        vertical-align: top;\n    }\n\n    .dataframe thead th {\n        text-align: right;\n    }\n</style>\n<table border=\"1\" class=\"dataframe\">\n  <thead>\n    <tr style=\"text-align: right;\">\n      <th></th>\n      <th>AverageTemperature</th>\n      <th>country</th>\n      <th>year</th>\n      <th>alpha_3</th>\n    </tr>\n  </thead>\n  <tbody>\n    <tr>\n      <th>8766</th>\n      <td>5.013600</td>\n      <td>China</td>\n      <td>1820</td>\n      <td>TWN</td>\n    </tr>\n    <tr>\n      <th>8767</th>\n      <td>6.284167</td>\n      <td>China</td>\n      <td>1821</td>\n      <td>TWN</td>\n    </tr>\n    <tr>\n      <th>8768</th>\n      <td>6.341417</td>\n      <td>China</td>\n      <td>1822</td>\n      <td>TWN</td>\n    </tr>\n    <tr>\n      <th>8769</th>\n      <td>7.024364</td>\n      <td>China</td>\n      <td>1823</td>\n      <td>TWN</td>\n    </tr>\n    <tr>\n      <th>8770</th>\n      <td>NaN</td>\n      <td>China</td>\n      <td>1824</td>\n      <td>TWN</td>\n    </tr>\n    <tr>\n      <th>...</th>\n      <td>...</td>\n      <td>...</td>\n      <td>...</td>\n      <td>...</td>\n    </tr>\n    <tr>\n      <th>8955</th>\n      <td>7.809500</td>\n      <td>China</td>\n      <td>2009</td>\n      <td>TWN</td>\n    </tr>\n    <tr>\n      <th>8956</th>\n      <td>7.548417</td>\n      <td>China</td>\n      <td>2010</td>\n      <td>TWN</td>\n    </tr>\n    <tr>\n      <th>8957</th>\n      <td>7.357083</td>\n      <td>China</td>\n      <td>2011</td>\n      <td>TWN</td>\n    </tr>\n    <tr>\n      <th>8958</th>\n      <td>7.077083</td>\n      <td>China</td>\n      <td>2012</td>\n      <td>TWN</td>\n    </tr>\n    <tr>\n      <th>8959</th>\n      <td>9.295000</td>\n      <td>China</td>\n      <td>2013</td>\n      <td>TWN</td>\n    </tr>\n  </tbody>\n</table>\n<p>194 rows × 4 columns</p>\n</div>"
     },
     "metadata": {},
     "execution_count": 12
    }
   ],
   "source": [
    "tw = tbc.query(\"alpha_3=='CHN'\")\n",
    "tw['alpha_3']='TWN'\n",
    "tw"
   ]
  },
  {
   "cell_type": "code",
   "execution_count": 17,
   "metadata": {},
   "outputs": [
    {
     "output_type": "execute_result",
     "data": {
      "text/plain": "       AverageTemperature      country  year alpha_3\n0               18.379571  Afghanistan  1838     AFG\n1                     NaN  Afghanistan  1839     AFG\n2               13.413455  Afghanistan  1840     AFG\n3               13.997600  Afghanistan  1841     AFG\n4               15.154667  Afghanistan  1842     AFG\n...                   ...          ...   ...     ...\n38063            7.809500        China  2009     TWN\n38064            7.548417        China  2010     TWN\n38065            7.357083        China  2011     TWN\n38066            7.077083        China  2012     TWN\n38067            9.295000        China  2013     TWN\n\n[38068 rows x 4 columns]",
      "text/html": "<div>\n<style scoped>\n    .dataframe tbody tr th:only-of-type {\n        vertical-align: middle;\n    }\n\n    .dataframe tbody tr th {\n        vertical-align: top;\n    }\n\n    .dataframe thead th {\n        text-align: right;\n    }\n</style>\n<table border=\"1\" class=\"dataframe\">\n  <thead>\n    <tr style=\"text-align: right;\">\n      <th></th>\n      <th>AverageTemperature</th>\n      <th>country</th>\n      <th>year</th>\n      <th>alpha_3</th>\n    </tr>\n  </thead>\n  <tbody>\n    <tr>\n      <th>0</th>\n      <td>18.379571</td>\n      <td>Afghanistan</td>\n      <td>1838</td>\n      <td>AFG</td>\n    </tr>\n    <tr>\n      <th>1</th>\n      <td>NaN</td>\n      <td>Afghanistan</td>\n      <td>1839</td>\n      <td>AFG</td>\n    </tr>\n    <tr>\n      <th>2</th>\n      <td>13.413455</td>\n      <td>Afghanistan</td>\n      <td>1840</td>\n      <td>AFG</td>\n    </tr>\n    <tr>\n      <th>3</th>\n      <td>13.997600</td>\n      <td>Afghanistan</td>\n      <td>1841</td>\n      <td>AFG</td>\n    </tr>\n    <tr>\n      <th>4</th>\n      <td>15.154667</td>\n      <td>Afghanistan</td>\n      <td>1842</td>\n      <td>AFG</td>\n    </tr>\n    <tr>\n      <th>...</th>\n      <td>...</td>\n      <td>...</td>\n      <td>...</td>\n      <td>...</td>\n    </tr>\n    <tr>\n      <th>38063</th>\n      <td>7.809500</td>\n      <td>China</td>\n      <td>2009</td>\n      <td>TWN</td>\n    </tr>\n    <tr>\n      <th>38064</th>\n      <td>7.548417</td>\n      <td>China</td>\n      <td>2010</td>\n      <td>TWN</td>\n    </tr>\n    <tr>\n      <th>38065</th>\n      <td>7.357083</td>\n      <td>China</td>\n      <td>2011</td>\n      <td>TWN</td>\n    </tr>\n    <tr>\n      <th>38066</th>\n      <td>7.077083</td>\n      <td>China</td>\n      <td>2012</td>\n      <td>TWN</td>\n    </tr>\n    <tr>\n      <th>38067</th>\n      <td>9.295000</td>\n      <td>China</td>\n      <td>2013</td>\n      <td>TWN</td>\n    </tr>\n  </tbody>\n</table>\n<p>38068 rows × 4 columns</p>\n</div>"
     },
     "metadata": {},
     "execution_count": 17
    }
   ],
   "source": [
    "tbc.append(tw).reset_index(drop=True)"
   ]
  },
  {
   "cell_type": "code",
   "execution_count": 16,
   "metadata": {},
   "outputs": [
    {
     "output_type": "execute_result",
     "data": {
      "text/plain": "       AverageTemperature      country  year alpha_3\n0               18.379571  Afghanistan  1838     AFG\n1                     NaN  Afghanistan  1839     AFG\n2               13.413455  Afghanistan  1840     AFG\n3               13.997600  Afghanistan  1841     AFG\n4               15.154667  Afghanistan  1842     AFG\n...                   ...          ...   ...     ...\n46805           21.377250     Zimbabwe  2009     ZWE\n46806           21.986250     Zimbabwe  2010     ZWE\n46807           21.602417     Zimbabwe  2011     ZWE\n46808           21.521333     Zimbabwe  2012     ZWE\n46809           20.710750     Zimbabwe  2013     ZWE\n\n[37874 rows x 4 columns]",
      "text/html": "<div>\n<style scoped>\n    .dataframe tbody tr th:only-of-type {\n        vertical-align: middle;\n    }\n\n    .dataframe tbody tr th {\n        vertical-align: top;\n    }\n\n    .dataframe thead th {\n        text-align: right;\n    }\n</style>\n<table border=\"1\" class=\"dataframe\">\n  <thead>\n    <tr style=\"text-align: right;\">\n      <th></th>\n      <th>AverageTemperature</th>\n      <th>country</th>\n      <th>year</th>\n      <th>alpha_3</th>\n    </tr>\n  </thead>\n  <tbody>\n    <tr>\n      <th>0</th>\n      <td>18.379571</td>\n      <td>Afghanistan</td>\n      <td>1838</td>\n      <td>AFG</td>\n    </tr>\n    <tr>\n      <th>1</th>\n      <td>NaN</td>\n      <td>Afghanistan</td>\n      <td>1839</td>\n      <td>AFG</td>\n    </tr>\n    <tr>\n      <th>2</th>\n      <td>13.413455</td>\n      <td>Afghanistan</td>\n      <td>1840</td>\n      <td>AFG</td>\n    </tr>\n    <tr>\n      <th>3</th>\n      <td>13.997600</td>\n      <td>Afghanistan</td>\n      <td>1841</td>\n      <td>AFG</td>\n    </tr>\n    <tr>\n      <th>4</th>\n      <td>15.154667</td>\n      <td>Afghanistan</td>\n      <td>1842</td>\n      <td>AFG</td>\n    </tr>\n    <tr>\n      <th>...</th>\n      <td>...</td>\n      <td>...</td>\n      <td>...</td>\n      <td>...</td>\n    </tr>\n    <tr>\n      <th>46805</th>\n      <td>21.377250</td>\n      <td>Zimbabwe</td>\n      <td>2009</td>\n      <td>ZWE</td>\n    </tr>\n    <tr>\n      <th>46806</th>\n      <td>21.986250</td>\n      <td>Zimbabwe</td>\n      <td>2010</td>\n      <td>ZWE</td>\n    </tr>\n    <tr>\n      <th>46807</th>\n      <td>21.602417</td>\n      <td>Zimbabwe</td>\n      <td>2011</td>\n      <td>ZWE</td>\n    </tr>\n    <tr>\n      <th>46808</th>\n      <td>21.521333</td>\n      <td>Zimbabwe</td>\n      <td>2012</td>\n      <td>ZWE</td>\n    </tr>\n    <tr>\n      <th>46809</th>\n      <td>20.710750</td>\n      <td>Zimbabwe</td>\n      <td>2013</td>\n      <td>ZWE</td>\n    </tr>\n  </tbody>\n</table>\n<p>37874 rows × 4 columns</p>\n</div>"
     },
     "metadata": {},
     "execution_count": 16
    }
   ],
   "source": [
    "tbc"
   ]
  },
  {
   "cell_type": "code",
   "execution_count": null,
   "metadata": {},
   "outputs": [],
   "source": []
  }
 ],
 "metadata": {
  "kernelspec": {
   "display_name": "Python 3",
   "language": "python",
   "name": "python3"
  },
  "language_info": {
   "codemirror_mode": {
    "name": "ipython",
    "version": 3
   },
   "file_extension": ".py",
   "mimetype": "text/x-python",
   "name": "python",
   "nbconvert_exporter": "python",
   "pygments_lexer": "ipython3",
   "version": "3.6.10-final"
  },
  "varInspector": {
   "cols": {
    "lenName": 16,
    "lenType": 16,
    "lenVar": 40
   },
   "kernels_config": {
    "python": {
     "delete_cmd_postfix": "",
     "delete_cmd_prefix": "del ",
     "library": "var_list.py",
     "varRefreshCmd": "print(var_dic_list())"
    },
    "r": {
     "delete_cmd_postfix": ") ",
     "delete_cmd_prefix": "rm(",
     "library": "var_list.r",
     "varRefreshCmd": "cat(var_dic_list()) "
    }
   },
   "types_to_exclude": [
    "module",
    "function",
    "builtin_function_or_method",
    "instance",
    "_Feature"
   ],
   "window_display": false
  }
 },
 "nbformat": 4,
 "nbformat_minor": 2
}