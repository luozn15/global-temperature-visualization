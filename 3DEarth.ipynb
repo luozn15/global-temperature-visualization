{
 "cells": [
  {
   "cell_type": "code",
   "execution_count": 1,
   "metadata": {},
   "outputs": [],
   "source": [
    "import netCDF4 as nc\n",
    "import numpy as np\n",
    "import pandas as pd \n",
    "import os\n",
    "import plotly.express as px\n",
    "import json\n",
    "import pycountry\n",
    "import dash\n",
    "import dash_core_components as dcc\n",
    "import dash_html_components as html\n",
    "import data_proc\n",
    "import draw\n",
    "\n",
    "csv_path = './data/GlobalLandTemperaturesByCountry.csv'\n",
    "json_path = './data/countries.geo.json'\n",
    "#nc_path = './data/Raw_TAVG_EqualArea.nc'\n",
    "nc_path = './data/Raw_TAVG_LatLong1.nc'"
   ]
  },
  {
   "cell_type": "code",
   "execution_count": 2,
   "metadata": {},
   "outputs": [],
   "source": [
    "nc = data_proc.NCProc(nc_path)"
   ]
  },
  {
   "cell_type": "code",
   "execution_count": 3,
   "metadata": {},
   "outputs": [
    {
     "output_type": "execute_result",
     "data": {
      "text/plain": "<class 'netCDF4._netCDF4.Dataset'>\nroot group (NETCDF4 data model, file format HDF5):\n    Conventions: Berkeley Earth Internal Convention (based on CF-1.5)\n    title: Gridded Berkeley Earth Surface Temperature Anomaly Field\n    history: 23-Jan-2020 11:13:36\n    institution: Berkeley Earth Surface Temperature Project\n    source_file: NoScalpelNoWeighting_TAVG.50985s.20200123T110933.mat\n    source_history: 23-Jan-2020 07:33:02\n    source_code_version: ca6f26341938dae0ea7dd619bce6f15e\n    comment: This file contains surface temperature anomaly field gridded on a 1� (longitude) by 1� (latitude) grid-box basis.\n    dimensions(sizes): longitude(360), latitude(180), time(3240), month_number(12)\n    variables(dimensions): float32 longitude(longitude), float32 latitude(latitude), float64 time(time), float64 land_mask(latitude,longitude), float32 temperature(time,latitude,longitude), float32 climatology(month_number,latitude,longitude)\n    groups: "
     },
     "metadata": {},
     "execution_count": 3
    }
   ],
   "source": [
    "nc.obj"
   ]
  },
  {
   "cell_type": "code",
   "execution_count": 32,
   "metadata": {},
   "outputs": [],
   "source": [
    "index = np.array(nc.time)//1 ==1999\n",
    "tp = np.nanmean(np.array(nc.temperature)[index],axis=0)"
   ]
  },
  {
   "cell_type": "code",
   "execution_count": 31,
   "metadata": {},
   "outputs": [],
   "source": [
    "lat = np.array(nc.latitude)\n",
    "long = np.array(nc.longitude)"
   ]
  },
  {
   "cell_type": "code",
   "execution_count": 40,
   "metadata": {},
   "outputs": [
    {
     "output_type": "execute_result",
     "data": {
      "text/plain": "       temperature  latitude  longitude\n0        -0.264964     -89.5     -179.5\n1        -0.263619     -89.5     -178.5\n2        -0.262293     -89.5     -177.5\n3        -0.260987     -89.5     -176.5\n4        -0.259701     -89.5     -175.5\n...            ...       ...        ...\n64795          NaN      89.5      175.5\n64796          NaN      89.5      176.5\n64797          NaN      89.5      177.5\n64798          NaN      89.5      178.5\n64799          NaN      89.5      179.5\n\n[64800 rows x 3 columns]",
      "text/html": "<div>\n<style scoped>\n    .dataframe tbody tr th:only-of-type {\n        vertical-align: middle;\n    }\n\n    .dataframe tbody tr th {\n        vertical-align: top;\n    }\n\n    .dataframe thead th {\n        text-align: right;\n    }\n</style>\n<table border=\"1\" class=\"dataframe\">\n  <thead>\n    <tr style=\"text-align: right;\">\n      <th></th>\n      <th>temperature</th>\n      <th>latitude</th>\n      <th>longitude</th>\n    </tr>\n  </thead>\n  <tbody>\n    <tr>\n      <th>0</th>\n      <td>-0.264964</td>\n      <td>-89.5</td>\n      <td>-179.5</td>\n    </tr>\n    <tr>\n      <th>1</th>\n      <td>-0.263619</td>\n      <td>-89.5</td>\n      <td>-178.5</td>\n    </tr>\n    <tr>\n      <th>2</th>\n      <td>-0.262293</td>\n      <td>-89.5</td>\n      <td>-177.5</td>\n    </tr>\n    <tr>\n      <th>3</th>\n      <td>-0.260987</td>\n      <td>-89.5</td>\n      <td>-176.5</td>\n    </tr>\n    <tr>\n      <th>4</th>\n      <td>-0.259701</td>\n      <td>-89.5</td>\n      <td>-175.5</td>\n    </tr>\n    <tr>\n      <th>...</th>\n      <td>...</td>\n      <td>...</td>\n      <td>...</td>\n    </tr>\n    <tr>\n      <th>64795</th>\n      <td>NaN</td>\n      <td>89.5</td>\n      <td>175.5</td>\n    </tr>\n    <tr>\n      <th>64796</th>\n      <td>NaN</td>\n      <td>89.5</td>\n      <td>176.5</td>\n    </tr>\n    <tr>\n      <th>64797</th>\n      <td>NaN</td>\n      <td>89.5</td>\n      <td>177.5</td>\n    </tr>\n    <tr>\n      <th>64798</th>\n      <td>NaN</td>\n      <td>89.5</td>\n      <td>178.5</td>\n    </tr>\n    <tr>\n      <th>64799</th>\n      <td>NaN</td>\n      <td>89.5</td>\n      <td>179.5</td>\n    </tr>\n  </tbody>\n</table>\n<p>64800 rows × 3 columns</p>\n</div>"
     },
     "metadata": {},
     "execution_count": 40
    }
   ],
   "source": [
    "df = pd.DataFrame(tp.reshape(len(lat)*len(long)),columns=['temperature'])\n",
    "df['latitude'] = lat.repeat(len(long))\n",
    "df['longitude'] = np.tile(long,len(lat))\n",
    "df"
   ]
  },
  {
   "cell_type": "code",
   "execution_count": null,
   "metadata": {},
   "outputs": [],
   "source": []
  }
 ],
 "metadata": {
  "kernelspec": {
   "display_name": "Python 3",
   "language": "python",
   "name": "python3"
  },
  "language_info": {
   "codemirror_mode": {
    "name": "ipython",
    "version": 3
   },
   "file_extension": ".py",
   "mimetype": "text/x-python",
   "name": "python",
   "nbconvert_exporter": "python",
   "pygments_lexer": "ipython3",
   "version": "3.6.10-final"
  },
  "varInspector": {
   "cols": {
    "lenName": 16,
    "lenType": 16,
    "lenVar": 40
   },
   "kernels_config": {
    "python": {
     "delete_cmd_postfix": "",
     "delete_cmd_prefix": "del ",
     "library": "var_list.py",
     "varRefreshCmd": "print(var_dic_list())"
    },
    "r": {
     "delete_cmd_postfix": ") ",
     "delete_cmd_prefix": "rm(",
     "library": "var_list.r",
     "varRefreshCmd": "cat(var_dic_list()) "
    }
   },
   "types_to_exclude": [
    "module",
    "function",
    "builtin_function_or_method",
    "instance",
    "_Feature"
   ],
   "window_display": false
  }
 },
 "nbformat": 4,
 "nbformat_minor": 2
}